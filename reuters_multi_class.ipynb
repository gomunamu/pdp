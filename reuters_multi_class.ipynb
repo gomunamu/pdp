{
  "nbformat": 4,
  "nbformat_minor": 0,
  "metadata": {
    "colab": {
      "provenance": [],
      "authorship_tag": "ABX9TyOrDX7tADaiOgsSz8YK9Nqr",
      "include_colab_link": true
    },
    "kernelspec": {
      "name": "python3",
      "display_name": "Python 3"
    },
    "language_info": {
      "name": "python"
    }
  },
  "cells": [
    {
      "cell_type": "markdown",
      "metadata": {
        "id": "view-in-github",
        "colab_type": "text"
      },
      "source": [
        "<a href=\"https://colab.research.google.com/github/gomunamu/pdp/blob/main/reuters_multi_class.ipynb\" target=\"_parent\"><img src=\"https://colab.research.google.com/assets/colab-badge.svg\" alt=\"Open In Colab\"/></a>"
      ]
    },
    {
      "cell_type": "code",
      "execution_count": 1,
      "metadata": {
        "colab": {
          "base_uri": "https://localhost:8080/"
        },
        "id": "lMjo04aGDpwz",
        "outputId": "9b602fe4-6224-48c5-b797-2da4a6637d5d"
      },
      "outputs": [
        {
          "output_type": "stream",
          "name": "stdout",
          "text": [
            "Downloading data from https://storage.googleapis.com/tensorflow/tf-keras-datasets/reuters.npz\n",
            "2110848/2110848 [==============================] - 0s 0us/step\n"
          ]
        }
      ],
      "source": [
        "from tensorflow.keras.datasets import reuters\n",
        "(train_data, train_labels), (test_data, test_labels) = reuters.load_data(num_words=10000)\n"
      ]
    },
    {
      "cell_type": "code",
      "source": [
        "word_index = reuters.get_word_index()\n",
        "reverse_word_index = dict(\n",
        "    [(value, key) for (key, value) in word_index.items()]\n",
        ")\n",
        "decoded_newswire = \" \".join(\n",
        "    [reverse_word_index.get(i-3, \"?\") for i in train_data[0]]\n",
        ")"
      ],
      "metadata": {
        "colab": {
          "base_uri": "https://localhost:8080/"
        },
        "id": "dAnHoPtdEMg-",
        "outputId": "39ff5201-baf9-48ef-99cb-4c5ba26c61b5"
      },
      "execution_count": 3,
      "outputs": [
        {
          "output_type": "stream",
          "name": "stdout",
          "text": [
            "Downloading data from https://storage.googleapis.com/tensorflow/tf-keras-datasets/reuters_word_index.json\n",
            "550378/550378 [==============================] - 0s 0us/step\n"
          ]
        }
      ]
    },
    {
      "cell_type": "code",
      "source": [
        "import numpy as np\n",
        "def vectorize_sequences(sequences, dimension=10000):\n",
        "  results = np.zeros((len(sequences), dimension))\n",
        "  for i, sequence in enumerate(sequences):\n",
        "    for j in sequence:\n",
        "      results[i, j] = 1.\n",
        "  return results\n",
        "x_train = vectorize_sequences(train_data)\n",
        "x_test = vectorize_sequences(test_data)"
      ],
      "metadata": {
        "id": "lxGmdddFEezf"
      },
      "execution_count": 4,
      "outputs": []
    },
    {
      "cell_type": "code",
      "source": [
        "def to_one_hot(labels, dimension=46):\n",
        "  results = np.zeros((len(labels), dimension))\n",
        "  for i, label in enumerate(labels):\n",
        "    results[i, label] = 1.\n",
        "    return results\n",
        "y_train = to_one_hot(train_labels)\n",
        "y_test = to_one_hot(test_labels)"
      ],
      "metadata": {
        "id": "H76asnTMEqP7"
      },
      "execution_count": 5,
      "outputs": []
    },
    {
      "cell_type": "code",
      "source": [
        "import tensorflow\n",
        "from tensorflow.keras.utils import to_categorical\n",
        "y_train = to_categorical(train_labels)\n",
        "y_test = to_categorical(test_labels)"
      ],
      "metadata": {
        "id": "knP-iAMaFAs9"
      },
      "execution_count": 11,
      "outputs": []
    },
    {
      "cell_type": "code",
      "source": [
        "from tensorflow import keras\n",
        "from keras import layers\n",
        "model = keras.Sequential([\n",
        "    layers.Dense(64, activation=\"relu\"),\n",
        "    layers.Dense(64, activation=\"relu\"),\n",
        "    layers.Dense(46, activation=\"softmax\"),\n",
        "])"
      ],
      "metadata": {
        "id": "6Eh8TzefFIpV"
      },
      "execution_count": 14,
      "outputs": []
    },
    {
      "cell_type": "code",
      "source": [
        "model.compile(optimizer=\"rmsprop\",\n",
        "              loss=\"categorical_crossentropy\",\n",
        "              metrics=[\"accuracy\"])\n"
      ],
      "metadata": {
        "id": "G1_8HUYeFesF"
      },
      "execution_count": 15,
      "outputs": []
    },
    {
      "cell_type": "code",
      "source": [
        "x_val = x_train[:1000]\n",
        "partial_x_train = x_train[1000:]\n",
        "y_val = y_train[:1000]\n",
        "partial_y_train = y_train[1000:]"
      ],
      "metadata": {
        "id": "VQBUaaFJF8AZ"
      },
      "execution_count": 16,
      "outputs": []
    },
    {
      "cell_type": "code",
      "source": [
        "history = model.fit(partial_x_train,\n",
        "                    partial_y_train,\n",
        "                    epochs=20,\n",
        "                    batch_size=512,\n",
        "                    validation_data=(x_val, y_val))"
      ],
      "metadata": {
        "colab": {
          "base_uri": "https://localhost:8080/"
        },
        "id": "DTpenjzSGD-1",
        "outputId": "39bd9648-d6a7-4e3b-a1a9-a045d5664068"
      },
      "execution_count": 17,
      "outputs": [
        {
          "output_type": "stream",
          "name": "stdout",
          "text": [
            "Epoch 1/20\n",
            "16/16 [==============================] - 2s 76ms/step - loss: 2.7232 - accuracy: 0.4803 - val_loss: 1.8646 - val_accuracy: 0.6190\n",
            "Epoch 2/20\n",
            "16/16 [==============================] - 1s 61ms/step - loss: 1.5625 - accuracy: 0.6725 - val_loss: 1.4052 - val_accuracy: 0.6780\n",
            "Epoch 3/20\n",
            "16/16 [==============================] - 1s 64ms/step - loss: 1.1858 - accuracy: 0.7444 - val_loss: 1.2052 - val_accuracy: 0.7230\n",
            "Epoch 4/20\n",
            "16/16 [==============================] - 1s 56ms/step - loss: 0.9628 - accuracy: 0.7923 - val_loss: 1.1118 - val_accuracy: 0.7590\n",
            "Epoch 5/20\n",
            "16/16 [==============================] - 1s 73ms/step - loss: 0.7974 - accuracy: 0.8301 - val_loss: 1.0201 - val_accuracy: 0.7720\n",
            "Epoch 6/20\n",
            "16/16 [==============================] - 2s 95ms/step - loss: 0.6601 - accuracy: 0.8566 - val_loss: 0.9605 - val_accuracy: 0.7950\n",
            "Epoch 7/20\n",
            "16/16 [==============================] - 1s 78ms/step - loss: 0.5498 - accuracy: 0.8817 - val_loss: 0.9130 - val_accuracy: 0.8080\n",
            "Epoch 8/20\n",
            "16/16 [==============================] - 1s 57ms/step - loss: 0.4586 - accuracy: 0.9044 - val_loss: 0.8845 - val_accuracy: 0.8060\n",
            "Epoch 9/20\n",
            "16/16 [==============================] - 1s 60ms/step - loss: 0.3826 - accuracy: 0.9172 - val_loss: 0.8756 - val_accuracy: 0.8180\n",
            "Epoch 10/20\n",
            "16/16 [==============================] - 1s 51ms/step - loss: 0.3311 - accuracy: 0.9295 - val_loss: 0.8654 - val_accuracy: 0.8170\n",
            "Epoch 11/20\n",
            "16/16 [==============================] - 1s 52ms/step - loss: 0.2830 - accuracy: 0.9371 - val_loss: 0.8820 - val_accuracy: 0.8120\n",
            "Epoch 12/20\n",
            "16/16 [==============================] - 1s 54ms/step - loss: 0.2452 - accuracy: 0.9449 - val_loss: 0.9069 - val_accuracy: 0.8190\n",
            "Epoch 13/20\n",
            "16/16 [==============================] - 1s 53ms/step - loss: 0.2160 - accuracy: 0.9499 - val_loss: 0.8953 - val_accuracy: 0.8040\n",
            "Epoch 14/20\n",
            "16/16 [==============================] - 1s 53ms/step - loss: 0.2008 - accuracy: 0.9501 - val_loss: 0.8886 - val_accuracy: 0.8180\n",
            "Epoch 15/20\n",
            "16/16 [==============================] - 1s 52ms/step - loss: 0.1796 - accuracy: 0.9515 - val_loss: 0.8908 - val_accuracy: 0.8250\n",
            "Epoch 16/20\n",
            "16/16 [==============================] - 1s 52ms/step - loss: 0.1675 - accuracy: 0.9528 - val_loss: 0.9086 - val_accuracy: 0.8070\n",
            "Epoch 17/20\n",
            "16/16 [==============================] - 1s 62ms/step - loss: 0.1576 - accuracy: 0.9524 - val_loss: 0.9344 - val_accuracy: 0.8100\n",
            "Epoch 18/20\n",
            "16/16 [==============================] - 1s 54ms/step - loss: 0.1427 - accuracy: 0.9564 - val_loss: 0.9397 - val_accuracy: 0.8100\n",
            "Epoch 19/20\n",
            "16/16 [==============================] - 2s 100ms/step - loss: 0.1394 - accuracy: 0.9563 - val_loss: 0.9537 - val_accuracy: 0.8040\n",
            "Epoch 20/20\n",
            "16/16 [==============================] - 2s 103ms/step - loss: 0.1317 - accuracy: 0.9573 - val_loss: 0.9383 - val_accuracy: 0.8080\n"
          ]
        }
      ]
    },
    {
      "cell_type": "code",
      "source": [
        "import matplotlib.pyplot as plt\n",
        "loss = history.history[\"loss\"]\n",
        "val_loss = history.history[\"val_loss\"]\n",
        "epochs = range(1, len(loss)+1)\n",
        "plt.plot(epochs, loss, \"bo\", label=\"Training loss\")\n",
        "plt.plot(epochs, val_loss, \"b\", label=\"Validation loss\")\n",
        "plt.title(\"Training and validation loss\")\n",
        "plt.xlabel(\"Epochs\")\n",
        "plt.ylabel(\"Loss\")\n",
        "plt.legend()\n",
        "plt.show()"
      ],
      "metadata": {
        "colab": {
          "base_uri": "https://localhost:8080/",
          "height": 472
        },
        "id": "I3YM3gNPGM5W",
        "outputId": "fce0fe36-725d-465a-a345-7082976fa55a"
      },
      "execution_count": 19,
      "outputs": [
        {
          "output_type": "display_data",
          "data": {
            "text/plain": [
              "<Figure size 640x480 with 1 Axes>"
            ],
            "image/png": "[encoded data removed]"
          },
          "metadata": {}
        }
      ]
    },
    {
      "cell_type": "code",
      "source": [
        "plt.clf()\n",
        "acc = history.history[\"accuracy\"]\n",
        "val_acc = history.history[\"val_accuracy\"]\n",
        "plt.plot(epochs, acc, \"bo\", label=\"Training accuracy\")\n",
        "plt.plot(epochs, val_acc, \"b\", label=\"Validation accuracy\")\n",
        "plt.title(\"Training and validation accuracy\")\n",
        "plt.xlabel(\"Epochs\")\n",
        "plt.ylabel(\"Accuracy\")\n",
        "plt.legend()\n",
        "plt.show()"
      ],
      "metadata": {
        "colab": {
          "base_uri": "https://localhost:8080/",
          "height": 472
        },
        "id": "bApgLT8yGti-",
        "outputId": "a5cc1bec-29a1-4e28-cbec-81e8b9c2699b"
      },
      "execution_count": 20,
      "outputs": [
        {
          "output_type": "display_data",
          "data": {
            "text/plain": [
              "<Figure size 640x480 with 1 Axes>"
            ],
            "image/png": "[encoded data removed]"
          },
          "metadata": {}
        }
      ]
    },
    {
      "cell_type": "code",
      "source": [
        "pred = model.predict(x_test)\n",
        "print(pred)\n",
        "print(y_test)"
      ],
      "metadata": {
        "colab": {
          "base_uri": "https://localhost:8080/"
        },
        "id": "xX-jrhQYHMu-",
        "outputId": "ea2fc6cf-5e05-4811-c534-b1f82e25d2bf"
      },
      "execution_count": 25,
      "outputs": [
        {
          "output_type": "stream",
          "name": "stdout",
          "text": [
            "71/71 [==============================] - 1s 8ms/step\n",
            "[[8.3097011e-06 3.0910578e-05 1.4314213e-08 ... 5.1919187e-07\n",
            "  3.6600358e-07 1.4844677e-08]\n",
            " [2.2798817e-04 5.0578971e-04 2.1332542e-06 ... 5.5403552e-07\n",
            "  6.3591365e-08 4.5140064e-06]\n",
            " [4.6544736e-03 9.1708118e-01 9.5312425e-04 ... 1.5574038e-05\n",
            "  4.2487634e-05 4.1403055e-06]\n",
            " ...\n",
            " [3.3651679e-05 9.2453964e-05 1.4798869e-05 ... 1.8996165e-05\n",
            "  1.7792345e-05 9.7011934e-07]\n",
            " [1.7587402e-03 9.1911433e-03 6.3039995e-05 ... 5.9268619e-05\n",
            "  5.6943849e-05 2.5073568e-05]\n",
            " [5.5049796e-04 6.2810206e-01 2.8049103e-03 ... 2.7261774e-05\n",
            "  3.0528146e-04 5.6018912e-06]]\n",
            "[[0. 0. 0. ... 0. 0. 0.]\n",
            " [0. 0. 0. ... 0. 0. 0.]\n",
            " [0. 1. 0. ... 0. 0. 0.]\n",
            " ...\n",
            " [0. 0. 0. ... 0. 0. 0.]\n",
            " [0. 0. 0. ... 0. 0. 0.]\n",
            " [0. 0. 0. ... 0. 0. 0.]]\n"
          ]
        }
      ]
    },
    {
      "cell_type": "code",
      "source": [
        "score, acc = model.evaluate(x_test, y_test)\n"
      ],
      "metadata": {
        "colab": {
          "base_uri": "https://localhost:8080/"
        },
        "id": "y6LemuXuHnBH",
        "outputId": "c8e49714-67dc-4f7b-ac0f-1ea4aa635c9e"
      },
      "execution_count": 30,
      "outputs": [
        {
          "output_type": "stream",
          "name": "stdout",
          "text": [
            "71/71 [==============================] - 0s 4ms/step - loss: 1.0584 - accuracy: 0.7916\n"
          ]
        }
      ]
    },
    {
      "cell_type": "code",
      "source": [
        "print(result)"
      ],
      "metadata": {
        "colab": {
          "base_uri": "https://localhost:8080/"
        },
        "id": "rnx9YoAhH50O",
        "outputId": "eca3fe30-9fd9-4c8c-9317-4d9a0ebe74c1"
      },
      "execution_count": 29,
      "outputs": [
        {
          "output_type": "stream",
          "name": "stdout",
          "text": [
            "[1.0584362745285034, 0.7916295528411865]\n"
          ]
        }
      ]
    },
    {
      "cell_type": "code",
      "source": [],
      "metadata": {
        "id": "zx9DTwQnIaPv"
      },
      "execution_count": null,
      "outputs": []
    }
  ]
}